{
 "cells": [
  {
   "cell_type": "code",
   "execution_count": null,
   "metadata": {},
   "outputs": [],
   "source": [
    "!pip3 install tweepy datetime"
   ]
  },
  {
   "cell_type": "code",
   "execution_count": null,
   "metadata": {},
   "outputs": [],
   "source": [
    "!python3 get_tweets.py"
   ]
  },
  {
   "cell_type": "code",
   "execution_count": 2,
   "metadata": {},
   "outputs": [],
   "source": [
    "import json"
   ]
  },
  {
   "cell_type": "code",
   "execution_count": 7,
   "metadata": {},
   "outputs": [],
   "source": [
    "# Abrir arquivo e ler linhas\n",
    "with open('./collected_tweets_2021-03-09-22-16-43.txt', 'r') as read_file:\n",
    "    tweets = read_file.readlines()"
   ]
  },
  {
   "cell_type": "code",
   "execution_count": 8,
   "metadata": {},
   "outputs": [
    {
     "name": "stdout",
     "output_type": "stream",
     "text": [
      "5046\n",
      "<class 'list'>\n"
     ]
    }
   ],
   "source": [
    "print(len(tweets))\n",
    "print(type(tweets))"
   ]
  },
  {
   "cell_type": "code",
   "execution_count": 13,
   "metadata": {},
   "outputs": [],
   "source": [
    "# Parseia o json de tweet e exporta em arquiv .json\n",
    "with open('tweet.json', 'w') as json_file:\n",
    "    json.dump(\n",
    "        json.loads(json.loads(tweets[0])),\n",
    "        json_file\n",
    "    )"
   ]
  },
  {
   "cell_type": "code",
   "execution_count": 10,
   "metadata": {},
   "outputs": [
    {
     "data": {
      "text/plain": [
       "str"
      ]
     },
     "execution_count": 10,
     "metadata": {},
     "output_type": "execute_result"
    }
   ],
   "source": [
    "type(json.loads(tweets[0]))"
   ]
  },
  {
   "cell_type": "code",
   "execution_count": 11,
   "metadata": {},
   "outputs": [
    {
     "data": {
      "text/plain": [
       "{'created_at': 'Wed Mar 10 01:16:39 +0000 2021',\n",
       " 'id': 1369457138284781568,\n",
       " 'id_str': '1369457138284781568',\n",
       " 'text': '@GOPLeader And the Republicans are dumb as a rock politically. They allowed #biden to steal the election by fraud,… https://t.co/6sKjMRkYdo',\n",
       " 'display_text_range': [11, 140],\n",
       " 'source': '<a href=\"http://twitter.com/download/android\" rel=\"nofollow\">Twitter for Android</a>',\n",
       " 'truncated': True,\n",
       " 'in_reply_to_status_id': 1369299591489806345,\n",
       " 'in_reply_to_status_id_str': '1369299591489806345',\n",
       " 'in_reply_to_user_id': 19739126,\n",
       " 'in_reply_to_user_id_str': '19739126',\n",
       " 'in_reply_to_screen_name': 'GOPLeader',\n",
       " 'user': {'id': 354865786,\n",
       "  'id_str': '354865786',\n",
       "  'name': 'Congressgohome',\n",
       "  'screen_name': 'Congressgohome',\n",
       "  'location': 'Winchester, VA',\n",
       "  'url': None,\n",
       "  'description': 'Congress should move most of its sessions to the Internet, stop spending so much time in DC.  Likes and Re-Tweets do not imply any endorsement.',\n",
       "  'translator_type': 'none',\n",
       "  'protected': False,\n",
       "  'verified': False,\n",
       "  'followers_count': 324,\n",
       "  'friends_count': 2261,\n",
       "  'listed_count': 3,\n",
       "  'favourites_count': 3631,\n",
       "  'statuses_count': 9117,\n",
       "  'created_at': 'Sun Aug 14 12:45:06 +0000 2011',\n",
       "  'utc_offset': None,\n",
       "  'time_zone': None,\n",
       "  'geo_enabled': False,\n",
       "  'lang': None,\n",
       "  'contributors_enabled': False,\n",
       "  'is_translator': False,\n",
       "  'profile_background_color': 'C0DEED',\n",
       "  'profile_background_image_url': 'http://abs.twimg.com/images/themes/theme1/bg.png',\n",
       "  'profile_background_image_url_https': 'https://abs.twimg.com/images/themes/theme1/bg.png',\n",
       "  'profile_background_tile': True,\n",
       "  'profile_link_color': '0084B4',\n",
       "  'profile_sidebar_border_color': 'C0DEED',\n",
       "  'profile_sidebar_fill_color': 'DDEEF6',\n",
       "  'profile_text_color': '333333',\n",
       "  'profile_use_background_image': True,\n",
       "  'profile_image_url': 'http://pbs.twimg.com/profile_images/1348231939774414848/NszZJ7m1_normal.jpg',\n",
       "  'profile_image_url_https': 'https://pbs.twimg.com/profile_images/1348231939774414848/NszZJ7m1_normal.jpg',\n",
       "  'default_profile': False,\n",
       "  'default_profile_image': False,\n",
       "  'following': None,\n",
       "  'follow_request_sent': None,\n",
       "  'notifications': None},\n",
       " 'geo': None,\n",
       " 'coordinates': None,\n",
       " 'place': None,\n",
       " 'contributors': None,\n",
       " 'is_quote_status': False,\n",
       " 'extended_tweet': {'full_text': '@GOPLeader And the Republicans are dumb as a rock politically. They allowed #biden to steal the election by fraud, they fought against this covid bill by telling 200 million people they should not get real help. President Trump would have asked for $10,000 for each person.',\n",
       "  'display_text_range': [11, 273],\n",
       "  'entities': {'hashtags': [{'text': 'biden', 'indices': [76, 82]}],\n",
       "   'urls': [],\n",
       "   'user_mentions': [{'screen_name': 'GOPLeader',\n",
       "     'name': 'Kevin McCarthy',\n",
       "     'id': 19739126,\n",
       "     'id_str': '19739126',\n",
       "     'indices': [0, 10]}],\n",
       "   'symbols': []}},\n",
       " 'quote_count': 0,\n",
       " 'reply_count': 0,\n",
       " 'retweet_count': 0,\n",
       " 'favorite_count': 0,\n",
       " 'entities': {'hashtags': [{'text': 'biden', 'indices': [76, 82]}],\n",
       "  'urls': [{'url': 'https://t.co/6sKjMRkYdo',\n",
       "    'expanded_url': 'https://twitter.com/i/web/status/1369457138284781568',\n",
       "    'display_url': 'twitter.com/i/web/status/1…',\n",
       "    'indices': [116, 139]}],\n",
       "  'user_mentions': [{'screen_name': 'GOPLeader',\n",
       "    'name': 'Kevin McCarthy',\n",
       "    'id': 19739126,\n",
       "    'id_str': '19739126',\n",
       "    'indices': [0, 10]}],\n",
       "  'symbols': []},\n",
       " 'favorited': False,\n",
       " 'retweeted': False,\n",
       " 'filter_level': 'low',\n",
       " 'lang': 'en',\n",
       " 'timestamp_ms': '1615338999707'}"
      ]
     },
     "execution_count": 11,
     "metadata": {},
     "output_type": "execute_result"
    }
   ],
   "source": [
    "# Parseia o json 2x. Transformando a string json para um dicionario\n",
    "json.loads(\n",
    "    json.loads(tweets[0])\n",
    ")"
   ]
  },
  {
   "cell_type": "code",
   "execution_count": 12,
   "metadata": {},
   "outputs": [
    {
     "data": {
      "text/plain": [
       "dict"
      ]
     },
     "execution_count": 12,
     "metadata": {},
     "output_type": "execute_result"
    }
   ],
   "source": [
    "type(\n",
    "    json.loads(\n",
    "    json.loads(tweets[0])\n",
    "    )\n",
    ")"
   ]
  },
  {
   "cell_type": "code",
   "execution_count": null,
   "metadata": {},
   "outputs": [],
   "source": []
  }
 ],
 "metadata": {
  "kernelspec": {
   "display_name": "Python 3",
   "language": "python",
   "name": "python3"
  },
  "language_info": {
   "codemirror_mode": {
    "name": "ipython",
    "version": 3
   },
   "file_extension": ".py",
   "mimetype": "text/x-python",
   "name": "python",
   "nbconvert_exporter": "python",
   "pygments_lexer": "ipython3",
   "version": "3.8.5"
  }
 },
 "nbformat": 4,
 "nbformat_minor": 4
}
