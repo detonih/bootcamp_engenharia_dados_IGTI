{
 "cells": [
  {
   "cell_type": "code",
   "execution_count": 1,
   "metadata": {
    "scrolled": true
   },
   "outputs": [
    {
     "name": "stdout",
     "output_type": "stream",
     "text": [
      "Collecting tweepy\n",
      "  Using cached https://files.pythonhosted.org/packages/67/c3/6bed87f3b1e5ed2f34bd58bf7978e308c86e255193916be76e5a5ce5dfca/tweepy-3.10.0-py2.py3-none-any.whl\n",
      "Collecting datetime\n",
      "  Downloading https://files.pythonhosted.org/packages/73/22/a5297f3a1f92468cc737f8ce7ba6e5f245fcfafeae810ba37bd1039ea01c/DateTime-4.3-py2.py3-none-any.whl (60kB)\n",
      "\u001b[K    100% |████████████████████████████████| 61kB 3.0MB/s ta 0:00:011\n",
      "\u001b[?25hCollecting six>=1.10.0 (from tweepy)\n",
      "  Using cached https://files.pythonhosted.org/packages/ee/ff/48bde5c0f013094d729fe4b0316ba2a24774b3ff1c52d924a8a4cb04078a/six-1.15.0-py2.py3-none-any.whl\n",
      "Collecting requests-oauthlib>=0.7.0 (from tweepy)\n",
      "  Using cached https://files.pythonhosted.org/packages/a3/12/b92740d845ab62ea4edf04d2f4164d82532b5a0b03836d4d4e71c6f3d379/requests_oauthlib-1.3.0-py2.py3-none-any.whl\n",
      "Collecting requests[socks]>=2.11.1 (from tweepy)\n",
      "  Using cached https://files.pythonhosted.org/packages/29/c1/24814557f1d22c56d50280771a17307e6bf87b70727d975fd6b2ce6b014a/requests-2.25.1-py2.py3-none-any.whl\n",
      "Collecting pytz (from datetime)\n",
      "  Downloading https://files.pythonhosted.org/packages/70/94/784178ca5dd892a98f113cdd923372024dc04b8d40abe77ca76b5fb90ca6/pytz-2021.1-py2.py3-none-any.whl (510kB)\n",
      "\u001b[K    100% |████████████████████████████████| 512kB 1.3MB/s ta 0:00:01\n",
      "\u001b[?25hCollecting zope.interface (from datetime)\n",
      "  Downloading https://files.pythonhosted.org/packages/b8/7f/68077712fe83112d25b1ccf2e34f59e23a3cd7a54ea631090a6df77862de/zope.interface-5.2.0-cp36-cp36m-manylinux1_x86_64.whl (236kB)\n",
      "\u001b[K    100% |████████████████████████████████| 245kB 3.2MB/s eta 0:00:01\n",
      "\u001b[?25hCollecting oauthlib>=3.0.0 (from requests-oauthlib>=0.7.0->tweepy)\n",
      "  Using cached https://files.pythonhosted.org/packages/05/57/ce2e7a8fa7c0afb54a0581b14a65b56e62b5759dbc98e80627142b8a3704/oauthlib-3.1.0-py2.py3-none-any.whl\n",
      "Collecting certifi>=2017.4.17 (from requests[socks]>=2.11.1->tweepy)\n",
      "  Using cached https://files.pythonhosted.org/packages/5e/a0/5f06e1e1d463903cf0c0eebeb751791119ed7a4b3737fdc9a77f1cdfb51f/certifi-2020.12.5-py2.py3-none-any.whl\n",
      "Collecting chardet<5,>=3.0.2 (from requests[socks]>=2.11.1->tweepy)\n",
      "  Using cached https://files.pythonhosted.org/packages/19/c7/fa589626997dd07bd87d9269342ccb74b1720384a4d739a1872bd84fbe68/chardet-4.0.0-py2.py3-none-any.whl\n",
      "Collecting urllib3<1.27,>=1.21.1 (from requests[socks]>=2.11.1->tweepy)\n",
      "  Using cached https://files.pythonhosted.org/packages/23/fc/8a49991f7905261f9ca9df5aa9b58363c3c821ce3e7f671895442b7100f2/urllib3-1.26.3-py2.py3-none-any.whl\n",
      "Collecting idna<3,>=2.5 (from requests[socks]>=2.11.1->tweepy)\n",
      "  Using cached https://files.pythonhosted.org/packages/a2/38/928ddce2273eaa564f6f50de919327bf3a00f091b5baba8dfa9460f3a8a8/idna-2.10-py2.py3-none-any.whl\n",
      "Collecting PySocks!=1.5.7,>=1.5.6; extra == \"socks\" (from requests[socks]>=2.11.1->tweepy)\n",
      "  Using cached https://files.pythonhosted.org/packages/8d/59/b4572118e098ac8e46e399a1dd0f2d85403ce8bbaad9ec79373ed6badaf9/PySocks-1.7.1-py3-none-any.whl\n",
      "Collecting setuptools (from zope.interface->datetime)\n",
      "  Downloading https://files.pythonhosted.org/packages/60/6a/dd9533ae9367a1f35b1b704e2ac9554a61e6dfa4d97e1d86c3760e1e135d/setuptools-54.1.1-py3-none-any.whl (784kB)\n",
      "\u001b[K    100% |████████████████████████████████| 788kB 1.0MB/s eta 0:00:01\n",
      "\u001b[?25hInstalling collected packages: six, certifi, chardet, urllib3, idna, PySocks, requests, oauthlib, requests-oauthlib, tweepy, pytz, setuptools, zope.interface, datetime\n",
      "Successfully installed PySocks-1.7.1 certifi-2020.12.5 chardet-4.0.0 datetime-4.3 idna-2.10 oauthlib-3.1.0 pytz-2021.1 requests-2.25.1 requests-oauthlib-1.3.0 setuptools-54.1.1 six-1.15.0 tweepy-3.10.0 urllib3-1.26.3 zope.interface-5.2.0\n"
     ]
    }
   ],
   "source": [
    "!pip3 install tweepy datetime"
   ]
  },
  {
   "cell_type": "markdown",
   "metadata": {},
   "source": [
    "# Play"
   ]
  },
  {
   "cell_type": "code",
   "execution_count": 3,
   "metadata": {},
   "outputs": [
    {
     "name": "stdout",
     "output_type": "stream",
     "text": [
      "^C\n",
      "Traceback (most recent call last):\n",
      "  File \"get_tweets.py\", line 37, in <module>\n",
      "    stream.filter(track=[\"Trump\"])\n",
      "  File \"/home/detonih/.local/lib/python3.6/site-packages/tweepy/streaming.py\", line 474, in filter\n",
      "    self._start(is_async)\n",
      "  File \"/home/detonih/.local/lib/python3.6/site-packages/tweepy/streaming.py\", line 389, in _start\n",
      "    self._run()\n",
      "  File \"/home/detonih/.local/lib/python3.6/site-packages/tweepy/streaming.py\", line 289, in _run\n",
      "    self._read_loop(resp)\n",
      "  File \"/home/detonih/.local/lib/python3.6/site-packages/tweepy/streaming.py\", line 339, in _read_loop\n",
      "    line = buf.read_line()\n",
      "  File \"/home/detonih/.local/lib/python3.6/site-packages/tweepy/streaming.py\", line 200, in read_line\n",
      "    self._buffer += self._stream.read(self._chunk_size)\n",
      "  File \"/home/detonih/.local/lib/python3.6/site-packages/urllib3/response.py\", line 519, in read\n",
      "    data = self._fp.read(amt) if not fp_closed else b\"\"\n",
      "  File \"/usr/lib/python3.6/http/client.py\", line 463, in read\n",
      "    n = self.readinto(b)\n",
      "  File \"/usr/lib/python3.6/http/client.py\", line 497, in readinto\n",
      "    return self._readinto_chunked(b)\n",
      "  File \"/usr/lib/python3.6/http/client.py\", line 592, in _readinto_chunked\n",
      "    chunk_left = self._get_chunk_left()\n",
      "  File \"/usr/lib/python3.6/http/client.py\", line 560, in _get_chunk_left\n",
      "    chunk_left = self._read_next_chunk_size()\n",
      "  File \"/usr/lib/python3.6/http/client.py\", line 520, in _read_next_chunk_size\n",
      "    line = self.fp.readline(_MAXLINE + 1)\n",
      "  File \"/usr/lib/python3.6/socket.py\", line 586, in readinto\n",
      "    return self._sock.recv_into(b)\n",
      "  File \"/usr/lib/python3.6/ssl.py\", line 1012, in recv_into\n",
      "    return self.read(nbytes, buffer)\n",
      "  File \"/usr/lib/python3.6/ssl.py\", line 874, in read\n",
      "    return self._sslobj.read(len, buffer)\n",
      "  File \"/usr/lib/python3.6/ssl.py\", line 631, in read\n",
      "    v = self._sslobj.read(len, buffer)\n",
      "KeyboardInterrupt\n"
     ]
    }
   ],
   "source": [
    "!python3 get_tweets.py"
   ]
  },
  {
   "cell_type": "code",
   "execution_count": null,
   "metadata": {},
   "outputs": [],
   "source": []
  }
 ],
 "metadata": {
  "kernelspec": {
   "display_name": "Python 3",
   "language": "python",
   "name": "python3"
  },
  "language_info": {
   "codemirror_mode": {
    "name": "ipython",
    "version": 3
   },
   "file_extension": ".py",
   "mimetype": "text/x-python",
   "name": "python",
   "nbconvert_exporter": "python",
   "pygments_lexer": "ipython3",
   "version": "3.8.5"
  }
 },
 "nbformat": 4,
 "nbformat_minor": 4
}
