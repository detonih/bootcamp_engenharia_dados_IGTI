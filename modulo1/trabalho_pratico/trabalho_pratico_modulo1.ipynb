{
 "cells": [
  {
   "cell_type": "code",
   "execution_count": 1,
   "metadata": {},
   "outputs": [],
   "source": [
    "import pandas as pd\n",
    "import numpy as np\n",
    "import zipfile\n",
    "import os"
   ]
  },
  {
   "cell_type": "code",
   "execution_count": null,
   "metadata": {},
   "outputs": [],
   "source": [
    "os.makedirs('./enem2019', exist_ok=True)"
   ]
  },
  {
   "cell_type": "code",
   "execution_count": null,
   "metadata": {},
   "outputs": [],
   "source": [
    "myzip = zipfile.ZipFile(\"./microdados_enem_2019.zip\")\n",
    "myzip.extractall(\"./enem2019/\")"
   ]
  },
  {
   "cell_type": "code",
   "execution_count": 2,
   "metadata": {},
   "outputs": [],
   "source": [
    "filename = \"./enem2019/DADOS/MICRODADOS_ENEM_2019.csv\""
   ]
  },
  {
   "cell_type": "code",
   "execution_count": 92,
   "metadata": {},
   "outputs": [
    {
     "data": {
      "text/plain": [
       "{'encoding': 'ISO-8859-1', 'confidence': 0.73, 'language': ''}"
      ]
     },
     "execution_count": 92,
     "metadata": {},
     "output_type": "execute_result"
    }
   ],
   "source": [
    "import chardet\n",
    "with open(filename, 'rb') as rawdata:\n",
    "    result = chardet.detect(rawdata.read(100000))\n",
    "result"
   ]
  },
  {
   "cell_type": "code",
   "execution_count": 4,
   "metadata": {},
   "outputs": [
    {
     "data": {
      "text/plain": [
       "{'NU_INSCRICAO;NU_ANO;CO_MUNICIPIO_RESIDENCIA;NO_MUNICIPIO_RESIDENCIA;CO_UF_RESIDENCIA;SG_UF_RESIDENCIA;NU_IDADE;TP_SEXO;TP_ESTADO_CIVIL;TP_COR_RACA;TP_NACIONALIDADE;CO_MUNICIPIO_NASCIMENTO;NO_MUNICIPIO_NASCIMENTO;CO_UF_NASCIMENTO;SG_UF_NASCIMENTO;TP_ST_CONCLUSAO;TP_ANO_CONCLUIU;TP_ESCOLA;TP_ENSINO;IN_TREINEIRO;CO_ESCOLA;CO_MUNICIPIO_ESC;NO_MUNICIPIO_ESC;CO_UF_ESC;SG_UF_ESC;TP_DEPENDENCIA_ADM_ESC;TP_LOCALIZACAO_ESC;TP_SIT_FUNC_ESC;IN_BAIXA_VISAO;IN_CEGUEIRA;IN_SURDEZ;IN_DEFICIENCIA_AUDITIVA;IN_SURDO_CEGUEIRA;IN_DEFICIENCIA_FISICA;IN_DEFICIENCIA_MENTAL;IN_DEFICIT_ATENCAO;IN_DISLEXIA;IN_DISCALCULIA;IN_AUTISMO;IN_VISAO_MONOCULAR;IN_OUTRA_DEF;IN_GESTANTE;IN_LACTANTE;IN_IDOSO;IN_ESTUDA_CLASSE_HOSPITALAR;IN_SEM_RECURSO;IN_BRAILLE;IN_AMPLIADA_24;IN_AMPLIADA_18;IN_LEDOR;IN_ACESSO;IN_TRANSCRICAO;IN_LIBRAS;IN_TEMPO_ADICIONAL;IN_LEITURA_LABIAL;IN_MESA_CADEIRA_RODAS;IN_MESA_CADEIRA_SEPARADA;IN_APOIO_PERNA;IN_GUIA_INTERPRETE;IN_COMPUTADOR;IN_CADEIRA_ESPECIAL;IN_CADEIRA_CANHOTO;IN_CADEIRA_ACOLCHOADA;IN_PROVA_DEITADO;IN_MOBILIARIO_OBESO;IN_LAMINA_OVERLAY;IN_PROTETOR_AURICULAR;IN_MEDIDOR_GLICOSE;IN_MAQUINA_BRAILE;IN_SOROBAN;IN_MARCA_PASSO;IN_SONDA;IN_MEDICAMENTOS;IN_SALA_INDIVIDUAL;IN_SALA_ESPECIAL;IN_SALA_ACOMPANHANTE;IN_MOBILIARIO_ESPECIFICO;IN_MATERIAL_ESPECIFICO;IN_NOME_SOCIAL;CO_MUNICIPIO_PROVA;NO_MUNICIPIO_PROVA;CO_UF_PROVA;SG_UF_PROVA;TP_PRESENCA_CN;TP_PRESENCA_CH;TP_PRESENCA_LC;TP_PRESENCA_MT;CO_PROVA_CN;CO_PROVA_CH;CO_PROVA_LC;CO_PROVA_MT;NU_NOTA_CN;NU_NOTA_CH;NU_NOTA_LC;NU_NOTA_MT;TX_RESPOSTAS_CN;TX_RESPOSTAS_CH;TX_RESPOSTAS_LC;TX_RESPOSTAS_MT;TP_LINGUA;TX_GABARITO_CN;TX_GABARITO_CH;TX_GABARITO_LC;TX_GABARITO_MT;TP_STATUS_REDACAO;NU_NOTA_COMP1;NU_NOTA_COMP2;NU_NOTA_COMP3;NU_NOTA_COMP4;NU_NOTA_COMP5;NU_NOTA_REDACAO;Q001;Q002;Q003;Q004;Q005;Q006;Q007;Q008;Q009;Q010;Q011;Q012;Q013;Q014;Q015;Q016;Q017;Q018;Q019;Q020;Q021;Q022;Q023;Q024;Q025': 'object'}"
      ]
     },
     "execution_count": 4,
     "metadata": {},
     "output_type": "execute_result"
    }
   ],
   "source": [
    "# determinana os tipos das colunas para uma amostra para posterior leitura da base completa.\n",
    "sample = pd.read_csv(filename, low_memory=False, nrows=1000, encoding=\"ISO-8859-1\")\n",
    "# print(\"Tipos das colunas do DF\")\n",
    "# print(dict(sample.dtypes))\n",
    "types = sample.dtypes\n",
    "types = types.apply(str)\n",
    "dict_types = types.to_dict()\n",
    "dict_types"
   ]
  },
  {
   "cell_type": "code",
   "execution_count": 19,
   "metadata": {},
   "outputs": [],
   "source": [
    "# realiza uma leitura em partes/blocos (batches) apenas para alunos de MG\n",
    "#encoding=\"ISO-8859-1\" ou encoding=\"Latin1\"?\n",
    "array_df = []\n",
    "for chunk in pd.read_csv(filename, encoding='Latin1', sep=';', chunksize = 10000):\n",
    "    temp_df = chunk.loc[chunk['SG_UF_ESC'] == 'MG']\n",
    "    array_df.append(temp_df)\n",
    "\n",
    "df = pd.concat(array_df, ignore_index=True)"
   ]
  },
  {
   "cell_type": "code",
   "execution_count": 20,
   "metadata": {},
   "outputs": [
    {
     "name": "stdout",
     "output_type": "stream",
     "text": [
      "<class 'pandas.core.frame.DataFrame'>\n",
      "RangeIndex: 108173 entries, 0 to 108172\n",
      "Columns: 136 entries, NU_INSCRICAO to Q025\n",
      "dtypes: float64(24), int64(71), object(41)\n",
      "memory usage: 360.8 MB\n"
     ]
    }
   ],
   "source": [
    "df.info(memory_usage='deep')"
   ]
  },
  {
   "cell_type": "code",
   "execution_count": 25,
   "metadata": {},
   "outputs": [],
   "source": [
    "#Ajusta tipos dos atributos\n",
    "\n",
    "ints = df.select_dtypes(include=['int64','int32','int16']).columns\n",
    "df[ints] = df[ints].apply(pd.to_numeric, downcast='integer')\n",
    "\n",
    "floats = df.select_dtypes(include=['float']).columns\n",
    "df[floats] = df[floats].apply(pd.to_numeric, downcast='float')"
   ]
  },
  {
   "cell_type": "code",
   "execution_count": 26,
   "metadata": {},
   "outputs": [
    {
     "name": "stdout",
     "output_type": "stream",
     "text": [
      "<class 'pandas.core.frame.DataFrame'>\n",
      "RangeIndex: 108173 entries, 0 to 108172\n",
      "Columns: 136 entries, NU_INSCRICAO to Q025\n",
      "dtypes: float32(24), int16(1), int32(2), int64(1), int8(67), object(41)\n",
      "memory usage: 301.1 MB\n"
     ]
    }
   ],
   "source": [
    "df.info(memory_usage='deep')"
   ]
  },
  {
   "cell_type": "code",
   "execution_count": 27,
   "metadata": {},
   "outputs": [],
   "source": [
    "#Ajusta tipos dos atributos que são objects para category\n",
    "objects = df.select_dtypes('object').columns\n",
    "df[objects] = df[objects].apply(lambda x: x.astype('category'))"
   ]
  },
  {
   "cell_type": "code",
   "execution_count": 28,
   "metadata": {},
   "outputs": [
    {
     "name": "stdout",
     "output_type": "stream",
     "text": [
      "<class 'pandas.core.frame.DataFrame'>\n",
      "RangeIndex: 108173 entries, 0 to 108172\n",
      "Columns: 136 entries, NU_INSCRICAO to Q025\n",
      "dtypes: category(41), float32(24), int16(1), int32(2), int64(1), int8(67)\n",
      "memory usage: 72.0 MB\n"
     ]
    }
   ],
   "source": [
    "df.info(memory_usage='deep')"
   ]
  },
  {
   "cell_type": "code",
   "execution_count": 29,
   "metadata": {},
   "outputs": [
    {
     "data": {
      "text/plain": [
       "547.8761596679688"
      ]
     },
     "execution_count": 29,
     "metadata": {},
     "output_type": "execute_result"
    }
   ],
   "source": [
    "#Qual é a média da nota em matemática de todos os alunos mineiros?\n",
    "df['NU_NOTA_MT'].mean()"
   ]
  },
  {
   "cell_type": "code",
   "execution_count": 30,
   "metadata": {},
   "outputs": [
    {
     "data": {
      "text/plain": [
       "527.4235229492188"
      ]
     },
     "execution_count": 30,
     "metadata": {},
     "output_type": "execute_result"
    }
   ],
   "source": [
    "# Qual é a média da nota em Linguagens e Códigos de todos os alunos mineiros?\n",
    "df['NU_NOTA_LC'].mean()"
   ]
  },
  {
   "cell_type": "code",
   "execution_count": 54,
   "metadata": {},
   "outputs": [
    {
     "data": {
      "text/plain": [
       "509.9061584472656"
      ]
     },
     "execution_count": 54,
     "metadata": {},
     "output_type": "execute_result"
    }
   ],
   "source": [
    "#Qual é a média da nota em Ciências Humanas dos alunos do sexo FEMININO mineiros?\n",
    "filtered_df = df[df.TP_SEXO.eq('F')]\n",
    "filtered_df['NU_NOTA_CH'].mean()"
   ]
  },
  {
   "cell_type": "code",
   "execution_count": 57,
   "metadata": {},
   "outputs": [
    {
     "data": {
      "text/plain": [
       "525.7894897460938"
      ]
     },
     "execution_count": 57,
     "metadata": {},
     "output_type": "execute_result"
    }
   ],
   "source": [
    "#Qual é a média da nota em Ciências Humanas dos alunos do sexo MASCULINO?\n",
    "filtered_df = df[df.TP_SEXO.eq('M')]\n",
    "filtered_df['NU_NOTA_CH'].mean()"
   ]
  },
  {
   "cell_type": "code",
   "execution_count": 63,
   "metadata": {},
   "outputs": [
    {
     "data": {
      "text/plain": [
       "528.9071044921875"
      ]
     },
     "execution_count": 63,
     "metadata": {},
     "output_type": "execute_result"
    }
   ],
   "source": [
    "# Qual é a média da nota em Matemática dos alunos do sexo FEMININO que moram na cidade de Montes Claros?\n",
    "filtered_df = df[df.TP_SEXO.eq('F')]\n",
    "filtered_df = filtered_df[filtered_df.NO_MUNICIPIO_RESIDENCIA.eq('Montes Claros')]\n",
    "filtered_df['NU_NOTA_MT'].mean()"
   ]
  },
  {
   "cell_type": "code",
   "execution_count": 73,
   "metadata": {},
   "outputs": [
    {
     "data": {
      "text/plain": [
       "545.0728149414062"
      ]
     },
     "execution_count": 73,
     "metadata": {},
     "output_type": "execute_result"
    }
   ],
   "source": [
    "#Qual é a média da nota em Matemática dos alunos do município de Sabará que possuem TV por assinatura na residência?\n",
    "filtered_df = df[df.NO_MUNICIPIO_RESIDENCIA.eq('Sabará')]\n",
    "filtered_df = filtered_df[filtered_df.Q021.eq('B')]\n",
    "filtered_df['NU_NOTA_MT'].mean()"
   ]
  },
  {
   "cell_type": "code",
   "execution_count": 76,
   "metadata": {},
   "outputs": [
    {
     "data": {
      "text/plain": [
       "554.8231201171875"
      ]
     },
     "execution_count": 76,
     "metadata": {},
     "output_type": "execute_result"
    }
   ],
   "source": [
    "#Qual é a média da nota em Ciências Humanas dos alunos mineiros que possuem dois fornos micro-ondas em casa?\n",
    "filtered_df = df[df.Q016.eq('C')]\n",
    "filtered_df['NU_NOTA_CH'].mean()"
   ]
  },
  {
   "cell_type": "code",
   "execution_count": 77,
   "metadata": {},
   "outputs": [
    {
     "data": {
      "text/plain": [
       "626.6366577148438"
      ]
     },
     "execution_count": 77,
     "metadata": {},
     "output_type": "execute_result"
    }
   ],
   "source": [
    "#Qual é a nota média em Matemática dos alunos mineiros cuja mãe completou a pós-graduação?\n",
    "filtered_df = df[df.Q002.eq('G')]\n",
    "filtered_df['NU_NOTA_MT'].mean()"
   ]
  },
  {
   "cell_type": "code",
   "execution_count": 85,
   "metadata": {},
   "outputs": [
    {
     "data": {
      "text/plain": [
       "585.5897216796875"
      ]
     },
     "execution_count": 85,
     "metadata": {},
     "output_type": "execute_result"
    }
   ],
   "source": [
    "#Qual é a nota média em Matemática dos alunos de Belo Horizonte e de Conselheiro Lafaiete?\n",
    "array_df_ = []\n",
    "filtered_df_BH = df[df.NO_MUNICIPIO_RESIDENCIA.eq('Belo Horizonte')]\n",
    "filtered_df_CL = df[df.NO_MUNICIPIO_RESIDENCIA.eq('Conselheiro Lafaiete')]\n",
    "array_df_.append(filtered_df_BH)\n",
    "array_df_.append(filtered_df_CL)\n",
    "\n",
    "df_concat = pd.concat(array_df_, ignore_index=True)\n",
    "df_concat['NU_NOTA_MT'].mean()"
   ]
  },
  {
   "cell_type": "code",
   "execution_count": 88,
   "metadata": {},
   "outputs": [
    {
     "data": {
      "text/plain": [
       "512.2308959960938"
      ]
     },
     "execution_count": 88,
     "metadata": {},
     "output_type": "execute_result"
    }
   ],
   "source": [
    "#Qual é a nota média em Ciências Humanas dos alunos mineiros que moram sozinhos?\n",
    "filtered_df = df[df.Q005.eq(1)]\n",
    "filtered_df['NU_NOTA_CH'].mean()"
   ]
  },
  {
   "cell_type": "code",
   "execution_count": 89,
   "metadata": {},
   "outputs": [
    {
     "data": {
      "text/plain": [
       "597.1246337890625"
      ]
     },
     "execution_count": 89,
     "metadata": {},
     "output_type": "execute_result"
    }
   ],
   "source": [
    "# Qual é a nota média em Ciências Humanas dos alunos mineiros cujo pai completou pós-graduação e possuem renda familiar entre R$ 8.982,01 e R$ 9.980,00.\n",
    "filtered_df = df[(df['Q001'] == 'G') & (df['Q006'] == 'M' )]\n",
    "filtered_df['NU_NOTA_CH'].mean()"
   ]
  },
  {
   "cell_type": "code",
   "execution_count": 90,
   "metadata": {},
   "outputs": [
    {
     "data": {
      "text/plain": [
       "512.4329833984375"
      ]
     },
     "execution_count": 90,
     "metadata": {},
     "output_type": "execute_result"
    }
   ],
   "source": [
    "# Qual é a nota média em Matemática dos alunos do sexo Feminino que moram em Lavras e escolheram “Espanhol” como língua estrangeira?\n",
    "filtered_df = df[(df['NO_MUNICIPIO_RESIDENCIA'] == 'Lavras') & (df['TP_SEXO'] == 'F') & (df['TP_LINGUA'] == 1 )]\n",
    "filtered_df['NU_NOTA_MT'].mean()"
   ]
  },
  {
   "cell_type": "code",
   "execution_count": 91,
   "metadata": {},
   "outputs": [
    {
     "data": {
      "text/plain": [
       "544.0599365234375"
      ]
     },
     "execution_count": 91,
     "metadata": {},
     "output_type": "execute_result"
    }
   ],
   "source": [
    "# Qual é a nota média em Matemática dos alunos do sexo Masculino que moram em Ouro Preto?\n",
    "filtered_df = df[(df['NO_MUNICIPIO_RESIDENCIA'] == 'Ouro Preto') & (df['TP_SEXO'] == 'M')]\n",
    "filtered_df['NU_NOTA_MT'].mean()"
   ]
  },
  {
   "cell_type": "code",
   "execution_count": 93,
   "metadata": {},
   "outputs": [
    {
     "data": {
      "text/plain": [
       "432.412109375"
      ]
     },
     "execution_count": 93,
     "metadata": {},
     "output_type": "execute_result"
    }
   ],
   "source": [
    "#Qual é a nota média em Ciências Humanas dos alunos surdos?\n",
    "filtered_df = df[(df['IN_SURDEZ'] == 1)]\n",
    "filtered_df['NU_NOTA_CH'].mean()"
   ]
  },
  {
   "cell_type": "code",
   "execution_count": 95,
   "metadata": {},
   "outputs": [
    {
     "data": {
      "text/plain": [
       "556.9428100585938"
      ]
     },
     "execution_count": 95,
     "metadata": {},
     "output_type": "execute_result"
    }
   ],
   "source": [
    "# Qual é a nota média em Matemática dos alunos do sexo FEMININO, que moram em Belo Horizonte, Sabará, Nova Lima e Betim e possuem dislexia?\n",
    "filtered_df = df[df.TP_SEXO.eq('F')]\n",
    "array_df_ = []\n",
    "filtered_df_BH = filtered_df[filtered_df.NO_MUNICIPIO_RESIDENCIA.eq('Belo Horizonte')]\n",
    "filtered_df_CL = filtered_df[filtered_df.NO_MUNICIPIO_RESIDENCIA.eq('Sabará')]\n",
    "filtered_df_NL = filtered_df[filtered_df.NO_MUNICIPIO_RESIDENCIA.eq('Nova Lima')]\n",
    "filtered_df_B = filtered_df[filtered_df.NO_MUNICIPIO_RESIDENCIA.eq('Betim')]\n",
    "\n",
    "array_df_.append(filtered_df_BH)\n",
    "array_df_.append(filtered_df_CL)\n",
    "array_df_.append(filtered_df_NL)\n",
    "array_df_.append(filtered_df_B)\n",
    "\n",
    "\n",
    "df_concat = pd.concat(array_df_, ignore_index=True)\n",
    "df_concat['NU_NOTA_MT'].mean()"
   ]
  },
  {
   "cell_type": "code",
   "execution_count": 80,
   "metadata": {},
   "outputs": [
    {
     "data": {
      "text/plain": [
       "22"
      ]
     },
     "execution_count": 80,
     "metadata": {},
     "output_type": "execute_result"
    }
   ],
   "source": [
    "import gc\n",
    "\n",
    "gc.collect()"
   ]
  },
  {
   "cell_type": "code",
   "execution_count": null,
   "metadata": {},
   "outputs": [],
   "source": []
  }
 ],
 "metadata": {
  "kernelspec": {
   "display_name": "Python 3",
   "language": "python",
   "name": "python3"
  },
  "language_info": {
   "codemirror_mode": {
    "name": "ipython",
    "version": 3
   },
   "file_extension": ".py",
   "mimetype": "text/x-python",
   "name": "python",
   "nbconvert_exporter": "python",
   "pygments_lexer": "ipython3",
   "version": "3.8.5"
  }
 },
 "nbformat": 4,
 "nbformat_minor": 4
}
